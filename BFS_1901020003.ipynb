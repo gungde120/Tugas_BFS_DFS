{
  "nbformat": 4,
  "nbformat_minor": 0,
  "metadata": {
    "colab": {
      "name": "BFS_1901020003.ipynb",
      "provenance": [],
      "collapsed_sections": []
    },
    "kernelspec": {
      "name": "python3",
      "display_name": "Python 3"
    },
    "language_info": {
      "name": "python"
    },
    "accelerator": "GPU"
  },
  "cells": [
    {
      "cell_type": "code",
      "metadata": {
        "colab": {
          "base_uri": "https://localhost:8080/"
        },
        "id": "JqgHG1DUdEeI",
        "outputId": "2776dbee-40ea-4b79-931d-e63cf25dda82"
      },
      "source": [
        "graph = { # Definisi node dan pasangannya pada tree\n",
        "  '1' : ['4', '2'],\n",
        "  '2' : ['1', '3', '8', '7', '5'],\n",
        "  '3' : ['10', '9'],\n",
        "  '4' : ['1', '3'],\n",
        "  '5' : ['2', '7', '6'],\n",
        "  '6' : ['5'],\n",
        "  '7' : ['5', '2', '8'],\n",
        "  '8' : ['2', '7'],\n",
        "  '9' : ['3'],\n",
        "  '10': ['3']\n",
        "}\n",
        "\n",
        "visited = [] # List to keep track of visited nodes.\n",
        "queue = []     #Initialize a queue\n",
        "\n",
        "def bfs(visited, graph, node):\n",
        "  visited.append(node)\n",
        "  queue.append(node)\n",
        "\n",
        "  while queue:\n",
        "    s = queue.pop(0) \n",
        "    print (s, end = \" \") \n",
        "\n",
        "    for neighbour in graph[s]:\n",
        "      if neighbour not in visited:\n",
        "        visited.append(neighbour)\n",
        "        queue.append(neighbour)\n",
        "\n",
        "# Driver Code\n",
        "bfs(visited, graph, '1')"
      ],
      "execution_count": 1,
      "outputs": [
        {
          "output_type": "stream",
          "name": "stdout",
          "text": [
            "1 4 2 3 8 7 5 10 9 6 "
          ]
        }
      ]
    }
  ]
}