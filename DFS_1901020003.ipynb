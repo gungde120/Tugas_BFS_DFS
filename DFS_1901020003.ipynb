{
  "nbformat": 4,
  "nbformat_minor": 0,
  "metadata": {
    "colab": {
      "name": "DFS_1901020003.ipynb",
      "provenance": [],
      "collapsed_sections": []
    },
    "kernelspec": {
      "name": "python3",
      "display_name": "Python 3"
    },
    "language_info": {
      "name": "python"
    }
  },
  "cells": [
    {
      "cell_type": "code",
      "metadata": {
        "colab": {
          "base_uri": "https://localhost:8080/"
        },
        "id": "xYfBe6YsoeYd",
        "outputId": "00e5334a-c142-46ed-af6b-1069833a101d"
      },
      "source": [
        "graph = { # Using a Python dictionary to act as an adjacency list\n",
        "  '1' : ['4', '2'],\n",
        "  '2' : ['1', '3', '8', '7', '5'],\n",
        "  '3' : ['10', '9'],\n",
        "  '4' : ['1', '3'],\n",
        "  '5' : ['2', '7', '6'],\n",
        "  '6' : ['5'],\n",
        "  '7' : ['5', '2', '8'],\n",
        "  '8' : ['2', '7'],\n",
        "  '9' : ['3'],\n",
        "  '10': ['3']\n",
        "}\n",
        "\n",
        "visited = set() # Set to keep track of visited nodes.\n",
        "\n",
        "def dfs(visited, graph, node):\n",
        "    if node not in visited:\n",
        "        print (node)\n",
        "        visited.add(node)\n",
        "        for neighbour in graph[node]:\n",
        "            dfs(visited, graph, neighbour)\n",
        "\n",
        "# Driver Code\n",
        "dfs(visited, graph, '1')"
      ],
      "execution_count": 1,
      "outputs": [
        {
          "output_type": "stream",
          "name": "stdout",
          "text": [
            "1\n",
            "4\n",
            "3\n",
            "10\n",
            "9\n",
            "2\n",
            "8\n",
            "7\n",
            "5\n",
            "6\n"
          ]
        }
      ]
    }
  ]
}